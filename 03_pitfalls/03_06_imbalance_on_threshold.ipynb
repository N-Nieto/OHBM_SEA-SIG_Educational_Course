{
 "cells": [
  {
   "cell_type": "markdown",
   "id": "ce0e50e8",
   "metadata": {},
   "source": [
    "<a   href=\"https://colab.research.google.com/github/N-Nieto/OHBM_SEA-SIG_Educational_Course/blob/master/03_pitfalls/03_06_imbalance_on_threshold.ipynb\" target=\"_parent\"><img src=\"https://colab.research.google.com/assets/colab-badge.svg\" alt=\"Open In Colab\"/></a>"
   ]
  },
  {
   "cell_type": "markdown",
   "id": "334c5f80",
   "metadata": {},
   "source": [
    "For questions on this notebook contact: n.nieto@fz-juelich.de"
   ]
  },
  {
   "cell_type": "markdown",
   "id": "e2fc07e7",
   "metadata": {},
   "source": [
    "### Imports"
   ]
  },
  {
   "cell_type": "code",
   "execution_count": null,
   "id": "6fb6210b",
   "metadata": {},
   "outputs": [],
   "source": [
    "import numpy as np\n",
    "import matplotlib.pyplot as plt\n",
    "from sklearn.datasets import make_classification\n",
    "from sklearn.linear_model import LogisticRegression\n",
    "from sklearn.model_selection import train_test_split\n",
    "from sklearn.metrics import roc_auc_score, balanced_accuracy_score, roc_curve\n",
    "import pandas as pd\n",
    "\n",
    "# Set random seed for reproducibility\n",
    "np.random.seed(42)"
   ]
  },
  {
   "cell_type": "markdown",
   "id": "1ddc577c",
   "metadata": {},
   "source": [
    "### For this experiment we will use syntetic data, to have more freedom in the imbalance percentage\n"
   ]
  },
  {
   "cell_type": "markdown",
   "id": "5aa4d360",
   "metadata": {},
   "source": [
    "### Let's systematically change the imbalance and analyse the impact on the Balanced ACC and the AUC"
   ]
  },
  {
   "cell_type": "code",
   "execution_count": null,
   "id": "f512b158",
   "metadata": {},
   "outputs": [],
   "source": [
    "# Generate datasets with different imbalance ratios\n",
    "ratios = np.arange(0.5, 0.99, 0.01) # for faster execution, use a coarser step like 0.05\n",
    "results = []\n",
    "\n",
    "for ratio in ratios:\n",
    "    X, y = make_classification(n_samples=10000, n_features=20, n_informative=10,\n",
    "                             n_redundant=5, weights=[ratio], flip_y=0.1,\n",
    "                             random_state=42)\n",
    "    \n",
    "    X_train, X_test, y_train, y_test = train_test_split(X, y, test_size=0.3, random_state=42)\n",
    "    \n",
    "    model = LogisticRegression(max_iter=1000)\n",
    "    model.fit(X_train, y_train)\n",
    "    \n",
    "    # Get predicted probabilities and decisions at different thresholds\n",
    "    probas = model.predict_proba(X_test)[:, 1]\n",
    "    fpr, tpr, thresholds = roc_curve(y_test, probas)\n",
    "    auc = roc_auc_score(y_test, probas)\n",
    "    \n",
    "    # Calculate balanced accuracy at different thresholds\n",
    "    bal_accs = []\n",
    "    for thresh in thresholds:\n",
    "        y_pred = (probas >= thresh).astype(int)\n",
    "        bal_acc = balanced_accuracy_score(y_test, y_pred)\n",
    "        bal_accs.append(bal_acc)\n",
    "    \n",
    "    # Find optimal threshold (maximizing balanced accuracy)\n",
    "    optimal_idx = np.argmax(bal_accs)\n",
    "    optimal_thresh = thresholds[optimal_idx]\n",
    "    \n",
    "    results.append({\n",
    "        'ratio': ratio,\n",
    "        'auc': auc,\n",
    "        'optimal_thresh': optimal_thresh,\n",
    "        'max_bal_acc': bal_accs[optimal_idx],\n",
    "        'default_thresh_bal_acc': balanced_accuracy_score(y_test, (probas >= 0.5).astype(int))\n",
    "    })\n",
    "\n",
    "# Convert results to DataFrame for easier plotting\n",
    "df = pd.DataFrame(results)"
   ]
  },
  {
   "cell_type": "markdown",
   "id": "df63b003",
   "metadata": {},
   "source": [
    "### Let's analyse now the performance difference in the Balanced ACC. "
   ]
  },
  {
   "cell_type": "code",
   "execution_count": null,
   "id": "0c60fcaf",
   "metadata": {},
   "outputs": [],
   "source": [
    "plt.figure(figsize=(10, 5))\n",
    "plt.plot(df['ratio'], df['max_bal_acc'], 'o-', label='Optimal Threshold')\n",
    "plt.plot(df['ratio'], df['default_thresh_bal_acc'], 'o-', label='Default Threshold (0.5)')\n",
    "plt.xlabel('Class Balance Ratio (Positive Class)')\n",
    "plt.ylabel('Balanced Accuracy')\n",
    "plt.title('Impact of Threshold Selection on Balanced Accuracy')\n",
    "plt.legend()\n",
    "plt.grid(True)\n",
    "plt.show()"
   ]
  },
  {
   "cell_type": "markdown",
   "id": "7fb96025",
   "metadata": {},
   "source": [
    "### Let's see how the optimal threshold changes with respect of the class imbalance"
   ]
  },
  {
   "cell_type": "code",
   "execution_count": null,
   "id": "8e7ababd",
   "metadata": {},
   "outputs": [],
   "source": [
    "plt.figure(figsize=(10, 5))\n",
    "plt.plot(df['ratio'], df['optimal_thresh'], 'o-', label='Optimal Threshold')\n",
    "plt.axhline(0.5, color='r', linestyle='--', label='Default Threshold (0.5)')\n",
    "plt.xlabel('Class Balance Ratio (Positive Class)')\n",
    "plt.ylabel('Optimal Threshold')\n",
    "plt.title('Optimal Threshold vs Class Imbalance')\n",
    "plt.legend()\n",
    "plt.grid(True)\n",
    "plt.show()"
   ]
  },
  {
   "cell_type": "markdown",
   "id": "5a43e2c4",
   "metadata": {},
   "source": [
    "## Question\n",
    "What do you note in this plot? \n",
    "Is there any aproximation to the optimal threshold?"
   ]
  },
  {
   "cell_type": "markdown",
   "id": "56399fd0",
   "metadata": {},
   "source": [
    "# Question\n",
    "Will the imbalance also impact on a threshold-free metric like AUC?\n",
    "Run the following cell and analyse the results."
   ]
  },
  {
   "cell_type": "code",
   "execution_count": null,
   "id": "e6ae594c",
   "metadata": {},
   "outputs": [],
   "source": [
    "plt.figure(figsize=(10, 5))\n",
    "plt.plot(df['ratio'], df['auc'], 'o-')\n",
    "plt.xlabel('Class Balance Ratio (Positive Class)')\n",
    "plt.ylabel('AUC Score')\n",
    "plt.title('Impact of Class Imbalance on AUC')\n",
    "plt.grid(True, which='both', linestyle='--', linewidth=0.5, alpha=0.7, color='black')\n",
    "plt.show()"
   ]
  }
 ],
 "metadata": {
  "kernelspec": {
   "display_name": ".FZJ_collaborations",
   "language": "python",
   "name": "python3"
  },
  "language_info": {
   "codemirror_mode": {
    "name": "ipython",
    "version": 3
   },
   "file_extension": ".py",
   "mimetype": "text/x-python",
   "name": "python",
   "nbconvert_exporter": "python",
   "pygments_lexer": "ipython3",
   "version": "3.9.1"
  }
 },
 "nbformat": 4,
 "nbformat_minor": 5
}

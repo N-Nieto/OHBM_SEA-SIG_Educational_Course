{
 "cells": [
  {
   "cell_type": "markdown",
   "id": "3f4df93b",
   "metadata": {},
   "source": [
    "<a   href=\"https://colab.research.google.com/github/N-Nieto/OHBM_SEA-SIG_Educational_Course/blob/master/03_pitfalls/03_07_imbalance_on_calibration.ipynb\" target=\"_parent\"><img src=\"https://colab.research.google.com/assets/colab-badge.svg\" alt=\"Open In Colab\"/></a>"
   ]
  },
  {
   "cell_type": "code",
   "execution_count": null,
   "id": "e84af6f5",
   "metadata": {},
   "outputs": [],
   "source": [
    "import numpy as np\n",
    "import matplotlib.pyplot as plt\n",
    "from sklearn.datasets import make_classification\n",
    "from sklearn.linear_model import LogisticRegression\n",
    "from sklearn.model_selection import train_test_split\n",
    "from sklearn.calibration import calibration_curve\n",
    "from sklearn.metrics import brier_score_loss\n",
    "from collections import Counter"
   ]
  },
  {
   "cell_type": "code",
   "execution_count": null,
   "id": "66bdf613",
   "metadata": {},
   "outputs": [],
   "source": [
    "# Set random seed for reproducibility\n",
    "np.random.seed(42)\n",
    "\n",
    "# Create datasets with different imbalance ratios\n",
    "ratios = [0.5, 0.7, 0.9, 0.95, 0.97, 0.99]\n",
    "datasets = []\n",
    "\n",
    "for ratio in ratios:\n",
    "    X, y = make_classification(\n",
    "        n_samples=10000,\n",
    "        n_features=20,\n",
    "        n_informative=10,\n",
    "        n_redundant=5,\n",
    "        weights=[ratio],\n",
    "        flip_y=0.1,\n",
    "        random_state=42,\n",
    "    )\n",
    "    datasets.append((X, y, ratio))\n",
    "    print(f\"Ratio {ratio}: Class distribution {Counter(y)}\")"
   ]
  },
  {
   "cell_type": "code",
   "execution_count": null,
   "id": "29c6f403",
   "metadata": {},
   "outputs": [],
   "source": [
    "# Create separate reliability diagrams for each ratio\n",
    "plt.figure(figsize=(15, 10))\n",
    "\n",
    "for i, (X, y, ratio) in enumerate(datasets):\n",
    "    plt.subplot(2, 3, i + 1)\n",
    "\n",
    "    X_train, X_test, y_train, y_test = train_test_split(\n",
    "        X, y, test_size=0.3, random_state=42\n",
    "    )\n",
    "    model = LogisticRegression(max_iter=1000)\n",
    "    model.fit(X_train, y_train)\n",
    "    prob_pos = model.predict_proba(X_test)[:, 1]\n",
    "\n",
    "    fraction_of_positives, mean_predicted_value = calibration_curve(\n",
    "        y_test, prob_pos, n_bins=10\n",
    "    )\n",
    "\n",
    "    plt.plot(mean_predicted_value, fraction_of_positives, \"s-\")\n",
    "    plt.plot([0, 1], [0, 1], \"k:\")\n",
    "    plt.title(f\"Ratio {ratio}\\nBrier: {brier_score_loss(y_test, prob_pos):.4f}\")\n",
    "    plt.xlabel(\"Mean predicted value\")\n",
    "    plt.ylabel(\"Fraction of positives\")\n",
    "\n",
    "plt.tight_layout()\n",
    "plt.show()"
   ]
  }
 ],
 "metadata": {
  "kernelspec": {
   "display_name": ".FZJ_collaborations",
   "language": "python",
   "name": "python3"
  },
  "language_info": {
   "codemirror_mode": {
    "name": "ipython",
    "version": 3
   },
   "file_extension": ".py",
   "mimetype": "text/x-python",
   "name": "python",
   "nbconvert_exporter": "python",
   "pygments_lexer": "ipython3",
   "version": "3.9.1"
  }
 },
 "nbformat": 4,
 "nbformat_minor": 5
}

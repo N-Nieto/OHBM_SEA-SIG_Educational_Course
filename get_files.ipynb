{
 "cells": [
  {
   "cell_type": "code",
   "execution_count": 6,
   "id": "4e3acacd",
   "metadata": {},
   "outputs": [
    {
     "name": "stdout",
     "output_type": "stream",
     "text": [
      "--2025-09-08 20:44:52--  https://zenodo.org/records/17056022/files/cleaned_VBM_GM_Schaefer200x17_mean_aggregation.csv?download=1\n",
      "Resolving zenodo.org (zenodo.org)... 2001:1458:d00:24::100:f6, 2001:1458:d00:61::100:2f3, 2001:1458:d00:25::100:372, ...\n",
      "Connecting to zenodo.org (zenodo.org)|2001:1458:d00:24::100:f6|:443... connected.\n",
      "HTTP request sent, awaiting response... 200 OK\n",
      "Length: 1244343 (1.2M) [text/plain]\n",
      "Saving to: ‘./data/cleaned_VBM_GM_Schaefer200x17_mean_aggregation.csv’\n",
      "\n",
      "./data/cleaned_VBM_ 100%[===================>]   1.19M   854KB/s    in 1.4s    \n",
      "\n",
      "2025-09-08 20:44:54 (854 KB/s) - ‘./data/cleaned_VBM_GM_Schaefer200x17_mean_aggregation.csv’ saved [1244343/1244343]\n",
      "\n",
      "--2025-09-08 20:44:54--  https://zenodo.org/records/17056022/files/cleaned_IXI_behavioural.csv?download=1\n",
      "Resolving zenodo.org (zenodo.org)... 2001:1458:d00:61::100:2f3, 2001:1458:d00:25::100:372, 2001:1458:d00:24::100:f6, ...\n",
      "Connecting to zenodo.org (zenodo.org)|2001:1458:d00:61::100:2f3|:443... connected.\n",
      "HTTP request sent, awaiting response... 200 OK\n",
      "Length: 32694 (32K) [text/plain]\n",
      "Saving to: ‘./data/cleaned_IXI_behavioural.csv’\n",
      "\n",
      "./data/cleaned_IXI_ 100%[===================>]  31.93K  --.-KB/s    in 0.08s   \n",
      "\n",
      "2025-09-08 20:44:55 (406 KB/s) - ‘./data/cleaned_IXI_behavioural.csv’ saved [32694/32694]\n",
      "\n",
      "--2025-09-08 20:44:55--  https://zenodo.org/records/17056022/files/cleaned_VBM_GM_Schaefer100x17_mean_aggregation.csv?download=1\n",
      "Resolving zenodo.org (zenodo.org)... 2001:1458:d00:25::100:372, 2001:1458:d00:24::100:f6, 2001:1458:d00:61::100:2f3, ...\n",
      "Connecting to zenodo.org (zenodo.org)|2001:1458:d00:25::100:372|:443... connected.\n",
      "HTTP request sent, awaiting response... 200 OK\n",
      "Length: 625373 (611K) [text/plain]\n",
      "Saving to: ‘./data/cleaned_VBM_GM_Schaefer100x17_mean_aggregation.csv’\n",
      "\n",
      "./data/cleaned_VBM_ 100%[===================>] 610.72K  1.05MB/s    in 0.6s    \n",
      "\n",
      "2025-09-08 20:44:56 (1.05 MB/s) - ‘./data/cleaned_VBM_GM_Schaefer100x17_mean_aggregation.csv’ saved [625373/625373]\n",
      "\n",
      "--2025-09-08 20:44:56--  https://zenodo.org/records/17056022/files/cleaned_VBM_GM_TianxS1x3TxMNI6thgeneration_mean_aggregation.csv?download=1\n",
      "Resolving zenodo.org (zenodo.org)... 2001:1458:d00:24::100:f6, 2001:1458:d00:61::100:2f3, 2001:1458:d00:25::100:372, ...\n",
      "Connecting to zenodo.org (zenodo.org)|2001:1458:d00:24::100:f6|:443... connected.\n",
      "HTTP request sent, awaiting response... 200 OK\n",
      "Length: 104927 (102K) [text/plain]\n",
      "Saving to: ‘./data/cleaned_VBM_GM_TianxS1x3TxMNI6thgeneration_mean_aggregation.csv’\n",
      "\n",
      "./data/cleaned_VBM_ 100%[===================>] 102.47K   556KB/s    in 0.2s    \n",
      "\n",
      "2025-09-08 20:44:57 (556 KB/s) - ‘./data/cleaned_VBM_GM_TianxS1x3TxMNI6thgeneration_mean_aggregation.csv’ saved [104927/104927]\n",
      "\n"
     ]
    }
   ],
   "source": [
    "# Download necessary data files\n",
    "! mkdir data\n",
    "\n",
    "# 01_basic_ML.ipynb needs this files\n",
    "! wget 'https://zenodo.org/records/17056022/files/cleaned_VBM_GM_Schaefer200x17_mean_aggregation.csv?download=1' --output-document './data/cleaned_VBM_GM_Schaefer200x17_mean_aggregation.csv'\n",
    "! wget 'https://zenodo.org/records/17056022/files/cleaned_IXI_behavioural.csv?download=1' --output-document './data/cleaned_IXI_behavioural.csv'\n",
    "\n",
    "# 02_XAI.ipynb needs also this files\n",
    "! wget 'https://zenodo.org/records/17056022/files/cleaned_VBM_GM_Schaefer100x17_mean_aggregation.csv?download=1' --output-document './data/cleaned_VBM_GM_Schaefer100x17_mean_aggregation.csv'\n",
    "! wget 'https://zenodo.org/records/17056022/files/cleaned_VBM_GM_TianxS1x3TxMNI6thgeneration_mean_aggregation.csv?download=1' --output-document './data/cleaned_VBM_GM_TianxS1x3TxMNI6thgeneration_mean_aggregation.csv'"
   ]
  },
  {
   "cell_type": "code",
   "execution_count": null,
   "id": "245012a8",
   "metadata": {},
   "outputs": [],
   "source": [
    "# Clean files\n",
    "import pandas as pd\n",
    "import numpy as np\n",
    "\n",
    "# Load data\n",
    "df_behav = pd.read_csv(\"data/cleaned_IXI_behavioural.csv\", index_col=0)\n",
    "\n",
    "# Some height values are not sensible, we filter them out\n",
    "height = df_behav[\"HEIGHT\"].values\n",
    "df_behav = df_behav[np.logical_and(height > 120, height < 200)]\n",
    "\n",
    "# Remove NaNs and duplicates\n",
    "df_behav.dropna(inplace=True)\n",
    "df_behav.drop_duplicates(keep='first', inplace=True)\n",
    "df_behav.to_csv('01_basic_ml/cleaned_IXI_behavioural.csv')\n",
    "df_behav.to_csv('02_XAI/cleaned_IXI_behavioural.csv')\n",
    "\n",
    "# Remove NaNs\n",
    "df_cortical_200 = pd.read_csv(\"data/cleaned_VBM_GM_Schaefer200x17_mean_aggregation.csv\", index_col=0)\n",
    "df_cortical_200.dropna(inplace=True)\n",
    "df_cortical_200.to_csv('01_basic_ml/cleaned_VBM_GM_Schaefer200x17_mean_aggregation.csv')\n",
    "\n",
    "# Remove NaNs\n",
    "df_cortical_100 = pd.read_csv(\"data/cleaned_VBM_GM_Schaefer100x17_mean_aggregation.csv\", index_col=0)\n",
    "df_cortical_100.dropna(inplace=True)\n",
    "df_cortical_100.to_csv('02_XAI/cleaned_VBM_GM_Schaefer100x17_mean_aggregation.csv')\n",
    "\n",
    "# Remove NaNs\n",
    "df_subcortical = pd.read_csv(\"data/cleaned_VBM_GM_TianxS1x3TxMNI6thgeneration_mean_aggregation.csv\", index_col=0)\n",
    "df_subcortical.dropna(inplace=True)\n",
    "df_subcortical.to_csv('02_XAI/cleaned_VBM_GM_TianxS1x3TxMNI6thgeneration_mean_aggregation.csv')"
   ]
  }
 ],
 "metadata": {
  "kernelspec": {
   "display_name": "julearn",
   "language": "python",
   "name": "python3"
  },
  "language_info": {
   "codemirror_mode": {
    "name": "ipython",
    "version": 3
   },
   "file_extension": ".py",
   "mimetype": "text/x-python",
   "name": "python",
   "nbconvert_exporter": "python",
   "pygments_lexer": "ipython3",
   "version": "3.11.8"
  }
 },
 "nbformat": 4,
 "nbformat_minor": 5
}

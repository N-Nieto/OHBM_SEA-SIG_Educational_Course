{
 "cells": [
  {
   "cell_type": "code",
   "execution_count": 11,
   "id": "4e3acacd",
   "metadata": {},
   "outputs": [
    {
     "data": {
      "text/plain": [
       "('./data/cleaned_VBM_GM_TianxS1x3TxMNI6thgeneration_mean_aggregation.csv',\n",
       " <http.client.HTTPMessage at 0x11e855890>)"
      ]
     },
     "execution_count": 11,
     "metadata": {},
     "output_type": "execute_result"
    }
   ],
   "source": [
    "from pathlib import Path\n",
    "from urllib.request import urlretrieve\n",
    "\n",
    "# Download necessary data files\n",
    "Path(\"data\").mkdir(exist_ok=True)\n",
    "\n",
    "# 01_basic_ML.ipynb needs this files\n",
    "urlretrieve('https://zenodo.org/records/17056022/files/cleaned_VBM_GM_Schaefer200x17_mean_aggregation.csv?download=1', './data/cleaned_VBM_GM_Schaefer200x17_mean_aggregation.csv')\n",
    "urlretrieve('https://zenodo.org/records/17056022/files/cleaned_IXI_behavioural.csv?download=1', './data/cleaned_IXI_behavioural.csv')\n",
    "\n",
    "# 02_XAI.ipynb needs also this files\n",
    "urlretrieve('https://zenodo.org/records/17056022/files/cleaned_VBM_GM_Schaefer100x17_mean_aggregation.csv?download=1', './data/cleaned_VBM_GM_Schaefer100x17_mean_aggregation.csv')\n",
    "urlretrieve('https://zenodo.org/records/17056022/files/cleaned_VBM_GM_TianxS1x3TxMNI6thgeneration_mean_aggregation.csv?download=1', './data/cleaned_VBM_GM_TianxS1x3TxMNI6thgeneration_mean_aggregation.csv')"
   ]
  },
  {
   "cell_type": "code",
   "execution_count": null,
   "id": "245012a8",
   "metadata": {},
   "outputs": [],
   "source": [
    "# Clean files\n",
    "import pandas as pd\n",
    "import numpy as np\n",
    "\n",
    "# Load data\n",
    "df_behav = pd.read_csv(\"data/cleaned_IXI_behavioural.csv\", index_col=0)\n",
    "\n",
    "# Some height values are not sensible, we filter them out\n",
    "height = df_behav[\"HEIGHT\"].values\n",
    "df_behav = df_behav[np.logical_and(height > 120, height < 200)]\n",
    "\n",
    "# Remove NaNs and duplicates\n",
    "df_behav.dropna(inplace=True)\n",
    "df_behav.drop_duplicates(keep='first', inplace=True)\n",
    "df_behav.to_csv('01_basic_ml/cleaned_IXI_behavioural.csv')\n",
    "df_behav.to_csv('02_XAI/cleaned_IXI_behavioural.csv')\n",
    "\n",
    "# Remove NaNs\n",
    "df_cortical_200 = pd.read_csv(\"data/cleaned_VBM_GM_Schaefer200x17_mean_aggregation.csv\", index_col=0)\n",
    "df_cortical_200.dropna(inplace=True)\n",
    "df_cortical_200.to_csv('01_basic_ML/cleaned_VBM_GM_Schaefer200x17_mean_aggregation.csv')\n",
    "\n",
    "# Remove NaNs\n",
    "df_cortical_100 = pd.read_csv(\"data/cleaned_VBM_GM_Schaefer100x17_mean_aggregation.csv\", index_col=0)\n",
    "df_cortical_100.dropna(inplace=True)\n",
    "df_cortical_100.to_csv('02_XAI/cleaned_VBM_GM_Schaefer100x17_mean_aggregation.csv')\n",
    "\n",
    "# Remove NaNs\n",
    "df_subcortical = pd.read_csv(\"data/cleaned_VBM_GM_TianxS1x3TxMNI6thgeneration_mean_aggregation.csv\", index_col=0)\n",
    "df_subcortical.dropna(inplace=True)\n",
    "df_subcortical.to_csv('02_XAI/cleaned_VBM_GM_TianxS1x3TxMNI6thgeneration_mean_aggregation.csv')"
   ]
  }
 ],
 "metadata": {
  "kernelspec": {
   "display_name": "julearn",
   "language": "python",
   "name": "python3"
  },
  "language_info": {
   "codemirror_mode": {
    "name": "ipython",
    "version": 3
   },
   "file_extension": ".py",
   "mimetype": "text/x-python",
   "name": "python",
   "nbconvert_exporter": "python",
   "pygments_lexer": "ipython3",
   "version": "3.11.8"
  }
 },
 "nbformat": 4,
 "nbformat_minor": 5
}
